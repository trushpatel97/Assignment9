{
  "cells": [
    {
      "cell_type": "markdown",
      "metadata": {
        "id": "view-in-github",
        "colab_type": "text"
      },
      "source": [
        "<a href=\"https://colab.research.google.com/github/trushpatel97/Assignment9/blob/master/SQL_to_Spanner.ipynb\" target=\"_parent\"><img src=\"https://colab.research.google.com/assets/colab-badge.svg\" alt=\"Open In Colab\"/></a>"
      ]
    },
    {
      "cell_type": "code",
      "source": [
        "import json"
      ],
      "metadata": {
        "id": "nb40lHS-srkx"
      },
      "execution_count": 140,
      "outputs": []
    },
    {
      "cell_type": "code",
      "source": [
        "dictionary = {\"char\" : \"STRING\",\n",
        "\"varchar\" : \"STRING\",\n",
        "\"varchar2\" : \"STRING\",\n",
        "\"nchar\" : \"STRING\",\n",
        "\"nvarchar\" : \"STRING\",\n",
        "\"blob\" : \"STRING\",\n",
        "\"long raw\" : \"STRING\",\n",
        "\"bfile\" : \"STRING\",\n",
        "\"clob\" : \"STRING\",\n",
        "\"nclob\" : \"STRING\",\n",
        "\"long\" : \"STRING\",\n",
        "\"number\" : \"STRING\",\n",
        "\"numeric\" : \"INT64\",\n",
        "\"decimal\" : \"STRING\",\n",
        "\"int\" : \"INT64\",\n",
        "\"smallint\" : \"INT64\",\n",
        "\"binary_float\" : \"FLOAT64\",\n",
        "\"binary_double\" : \"FLOAT64\",\n",
        "\"date\" : \"DATE\",\n",
        "\"datetime\" : \"TIMESTAMP\",\n",
        "\"xml\" : \"STRING\",\n",
        "\"xml\" : \"STRING\",\n",
        "\"dburi\" : \"STRING\",\n",
        "\"xdburi\" : \"STRING\",\n",
        "\"httpuri\" : \"STRING\",\n",
        "\"rowid\" : \"PRIMARY KEY\"}"
      ],
      "metadata": {
        "id": "xMI6eFaluBfm"
      },
      "execution_count": 169,
      "outputs": []
    },
    {
      "cell_type": "code",
      "source": [
        "with open('Oracle_SQL.txt') as f, open('output.txt', 'w')  as out:\n",
        "    data = f.read()\n",
        "    f = open('Oracle_SQL.txt', encoding=\"utf8\")\n",
        "    sentences = f.read().split(\"\\n\")"
      ],
      "metadata": {
        "id": "TR7Qcg1RrpUx"
      },
      "execution_count": 171,
      "outputs": []
    },
    {
      "cell_type": "code",
      "source": [
        "for i in sentences:\n",
        "  words = i.replace(r'/[^a-zA-Z_ ]/g','').split(\" \")\n",
        "  words = list(filter(None, words))\n",
        "  for j in words:\n",
        "    print(j)\n",
        "\n"
      ],
      "metadata": {
        "colab": {
          "base_uri": "https://localhost:8080/"
        },
        "id": "LWNRzA2PvJGH",
        "outputId": "529bafad-3962-416e-e5cd-4a4b1e8f1c6d"
      },
      "execution_count": 177,
      "outputs": [
        {
          "output_type": "stream",
          "name": "stdout",
          "text": [
            "CREATE\n",
            "TABLE\n",
            "Persons\n",
            "(\n",
            "ID\n",
            "int\n",
            "LONG\n",
            "RAW,\n",
            "LastName\n",
            "VARCHAR(255)\n",
            "NOT\n",
            "NULL,\n",
            "FirstName\n",
            "varchar(255),\n",
            "Age\n",
            "int,\n",
            "CHECK\n",
            "(Age>=18)\n",
            ");\n",
            "CREATE\n",
            "TABLE\n",
            "Persons\n",
            "(\n",
            "ID\n",
            "int\n",
            "NOT\n",
            "NULL,\n",
            "LastName\n",
            "varchar(255)\n",
            "NOT\n",
            "NULL,\n",
            "FirstName\n",
            "varchar(255),\n",
            "Age\n",
            "int,\n",
            "City\n",
            "varchar(255),\n",
            "CONSTRAINT\n",
            "CHK_Person\n",
            "CHECK\n",
            "(Age>=18\n",
            "AND\n",
            "City='Sandnes')\n",
            ");\n",
            "SELECT\n",
            "studentID,\n",
            "FullName,\n",
            "sat_score,\n",
            "rcd_updated\n",
            "FROM\n",
            "student;\n",
            "STUDENT\n",
            "studentID,\n",
            "FullName,\n",
            "sat_score,\n",
            "recordUpdated\n",
            "FROM\n",
            "student\n",
            "WHERE\n",
            "(studentID\n",
            "BETWEEN\n",
            "1\n",
            "AND\n",
            "5\n",
            "OR\n",
            "studentID\n",
            "=\n",
            "8)\n",
            "AND\n",
            "sat_score\n",
            "NOT\n",
            "IN\n",
            "(1000,\n",
            "1400);\n",
            "UPDATE\n",
            "Person\n",
            "SET\n",
            "Name\n",
            "=\n",
            "“Elton\n",
            "John”\n",
            "WHERE\n",
            "Id\n",
            "=\n",
            "4;\n",
            "SELECT\n",
            "studentID,\n",
            "FullName,\n",
            "AVG(sat_score)\n",
            "FROM\n",
            "student\n",
            "GROUP\n",
            "BY\n",
            "studentID,\n",
            "FullName;\n"
          ]
        }
      ]
    }
  ],
  "metadata": {
    "colab": {
      "collapsed_sections": [],
      "name": "Welcome To Colaboratory",
      "provenance": [],
      "include_colab_link": true
    },
    "kernelspec": {
      "display_name": "Python 3",
      "name": "python3"
    }
  },
  "nbformat": 4,
  "nbformat_minor": 0
}